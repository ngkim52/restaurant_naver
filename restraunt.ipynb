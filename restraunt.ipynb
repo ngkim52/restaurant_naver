{
  "nbformat": 4,
  "nbformat_minor": 0,
  "metadata": {
    "colab": {
      "name": "restraunt.ipynb",
      "provenance": [],
      "collapsed_sections": []
    },
    "kernelspec": {
      "name": "python3",
      "display_name": "Python 3"
    },
    "language_info": {
      "name": "python"
    },
    "accelerator": "GPU"
  },
  "cells": [
    {
      "cell_type": "markdown",
      "metadata": {
        "id": "_9I19twUQ_IP"
      },
      "source": [
        "**Google Drive mount**\n",
        "- for fasttext pretrained data"
      ]
    },
    {
      "cell_type": "code",
      "metadata": {
        "colab": {
          "base_uri": "https://localhost:8080/"
        },
        "id": "QG_LOPxeqShR",
        "outputId": "86ff31ee-6a62-49b8-8740-0ec248e40529"
      },
      "source": [
        "from google.colab import drive \n",
        "drive.mount('/content/gdrive')\n"
      ],
      "execution_count": 1,
      "outputs": [
        {
          "output_type": "stream",
          "name": "stdout",
          "text": [
            "Mounted at /content/gdrive\n"
          ]
        }
      ]
    },
    {
      "cell_type": "code",
      "metadata": {
        "colab": {
          "base_uri": "https://localhost:8080/"
        },
        "id": "X5xnmKKmvd1l",
        "outputId": "0448ead9-bc36-49f2-bab6-d7927dc9f4c1"
      },
      "source": [
        "!pip install konlpy"
      ],
      "execution_count": 2,
      "outputs": [
        {
          "output_type": "stream",
          "name": "stdout",
          "text": [
            "Collecting konlpy\n",
            "  Downloading konlpy-0.5.2-py2.py3-none-any.whl (19.4 MB)\n",
            "\u001b[K     |████████████████████████████████| 19.4 MB 1.3 MB/s \n",
            "\u001b[?25hRequirement already satisfied: numpy>=1.6 in /usr/local/lib/python3.7/dist-packages (from konlpy) (1.19.5)\n",
            "Requirement already satisfied: tweepy>=3.7.0 in /usr/local/lib/python3.7/dist-packages (from konlpy) (3.10.0)\n",
            "Collecting colorama\n",
            "  Downloading colorama-0.4.4-py2.py3-none-any.whl (16 kB)\n",
            "Requirement already satisfied: lxml>=4.1.0 in /usr/local/lib/python3.7/dist-packages (from konlpy) (4.2.6)\n",
            "Collecting beautifulsoup4==4.6.0\n",
            "  Downloading beautifulsoup4-4.6.0-py3-none-any.whl (86 kB)\n",
            "\u001b[K     |████████████████████████████████| 86 kB 5.5 MB/s \n",
            "\u001b[?25hCollecting JPype1>=0.7.0\n",
            "  Downloading JPype1-1.3.0-cp37-cp37m-manylinux_2_5_x86_64.manylinux1_x86_64.whl (448 kB)\n",
            "\u001b[K     |████████████████████████████████| 448 kB 40.9 MB/s \n",
            "\u001b[?25hRequirement already satisfied: typing-extensions in /usr/local/lib/python3.7/dist-packages (from JPype1>=0.7.0->konlpy) (3.10.0.2)\n",
            "Requirement already satisfied: requests-oauthlib>=0.7.0 in /usr/local/lib/python3.7/dist-packages (from tweepy>=3.7.0->konlpy) (1.3.0)\n",
            "Requirement already satisfied: requests[socks]>=2.11.1 in /usr/local/lib/python3.7/dist-packages (from tweepy>=3.7.0->konlpy) (2.23.0)\n",
            "Requirement already satisfied: six>=1.10.0 in /usr/local/lib/python3.7/dist-packages (from tweepy>=3.7.0->konlpy) (1.15.0)\n",
            "Requirement already satisfied: oauthlib>=3.0.0 in /usr/local/lib/python3.7/dist-packages (from requests-oauthlib>=0.7.0->tweepy>=3.7.0->konlpy) (3.1.1)\n",
            "Requirement already satisfied: chardet<4,>=3.0.2 in /usr/local/lib/python3.7/dist-packages (from requests[socks]>=2.11.1->tweepy>=3.7.0->konlpy) (3.0.4)\n",
            "Requirement already satisfied: urllib3!=1.25.0,!=1.25.1,<1.26,>=1.21.1 in /usr/local/lib/python3.7/dist-packages (from requests[socks]>=2.11.1->tweepy>=3.7.0->konlpy) (1.24.3)\n",
            "Requirement already satisfied: idna<3,>=2.5 in /usr/local/lib/python3.7/dist-packages (from requests[socks]>=2.11.1->tweepy>=3.7.0->konlpy) (2.10)\n",
            "Requirement already satisfied: certifi>=2017.4.17 in /usr/local/lib/python3.7/dist-packages (from requests[socks]>=2.11.1->tweepy>=3.7.0->konlpy) (2021.10.8)\n",
            "Requirement already satisfied: PySocks!=1.5.7,>=1.5.6 in /usr/local/lib/python3.7/dist-packages (from requests[socks]>=2.11.1->tweepy>=3.7.0->konlpy) (1.7.1)\n",
            "Installing collected packages: JPype1, colorama, beautifulsoup4, konlpy\n",
            "  Attempting uninstall: beautifulsoup4\n",
            "    Found existing installation: beautifulsoup4 4.6.3\n",
            "    Uninstalling beautifulsoup4-4.6.3:\n",
            "      Successfully uninstalled beautifulsoup4-4.6.3\n",
            "Successfully installed JPype1-1.3.0 beautifulsoup4-4.6.0 colorama-0.4.4 konlpy-0.5.2\n"
          ]
        }
      ]
    },
    {
      "cell_type": "code",
      "metadata": {
        "id": "X1-dHjlSvVJa"
      },
      "source": [
        "import urllib.request\n",
        "import pandas as pd\n",
        "import numpy as np\n",
        "import matplotlib.pyplot as plt\n",
        "import requests\n",
        "import re\n",
        "from PIL import Image\n",
        "from io import BytesIO\n",
        "from nltk.tokenize import RegexpTokenizer\n",
        "import nltk\n",
        "from gensim.models import Word2Vec\n",
        "from gensim.models import KeyedVectors\n",
        "from nltk.corpus import stopwords\n",
        "from sklearn.metrics.pairwise import cosine_similarity\n",
        "from sklearn.feature_extraction.text import CountVectorizer   \n",
        "from konlpy.tag import Okt  \n",
        "\n",
        "full_data = pd.read_excel('/content/gdrive/MyDrive/naver_restaurant.xlsx')"
      ],
      "execution_count": 28,
      "outputs": []
    },
    {
      "cell_type": "code",
      "metadata": {
        "id": "NF7D643fLMHS",
        "colab": {
          "base_uri": "https://localhost:8080/",
          "height": 174
        },
        "outputId": "9aed4cc2-2b07-43bc-e739-8c966e83fd7d"
      },
      "source": [
        "# device = torch.device('cuda')"
      ],
      "execution_count": 4,
      "outputs": [
        {
          "output_type": "error",
          "ename": "NameError",
          "evalue": "ignored",
          "traceback": [
            "\u001b[0;31m---------------------------------------------------------------------------\u001b[0m",
            "\u001b[0;31mNameError\u001b[0m                                 Traceback (most recent call last)",
            "\u001b[0;32m<ipython-input-4-571ab39f594b>\u001b[0m in \u001b[0;36m<module>\u001b[0;34m()\u001b[0m\n\u001b[0;32m----> 1\u001b[0;31m \u001b[0mdevice\u001b[0m \u001b[0;34m=\u001b[0m \u001b[0mtorch\u001b[0m\u001b[0;34m.\u001b[0m\u001b[0mdevice\u001b[0m\u001b[0;34m(\u001b[0m\u001b[0;34m'cuda'\u001b[0m\u001b[0;34m)\u001b[0m\u001b[0;34m\u001b[0m\u001b[0;34m\u001b[0m\u001b[0m\n\u001b[0m",
            "\u001b[0;31mNameError\u001b[0m: name 'torch' is not defined"
          ]
        }
      ]
    },
    {
      "cell_type": "code",
      "metadata": {
        "colab": {
          "base_uri": "https://localhost:8080/",
          "height": 293
        },
        "id": "TxagwvOjLOjO",
        "outputId": "dca5994d-dbd8-48df-ffa1-bdc6b177c991"
      },
      "source": [
        "full_data[:5]    "
      ],
      "execution_count": 5,
      "outputs": [
        {
          "output_type": "execute_result",
          "data": {
            "text/html": [
              "<div>\n",
              "<style scoped>\n",
              "    .dataframe tbody tr th:only-of-type {\n",
              "        vertical-align: middle;\n",
              "    }\n",
              "\n",
              "    .dataframe tbody tr th {\n",
              "        vertical-align: top;\n",
              "    }\n",
              "\n",
              "    .dataframe thead th {\n",
              "        text-align: right;\n",
              "    }\n",
              "</style>\n",
              "<table border=\"1\" class=\"dataframe\">\n",
              "  <thead>\n",
              "    <tr style=\"text-align: right;\">\n",
              "      <th></th>\n",
              "      <th>store_name</th>\n",
              "      <th>store_type</th>\n",
              "      <th>star_point</th>\n",
              "      <th>star_point_qty</th>\n",
              "      <th>menu</th>\n",
              "      <th>blog_keyword</th>\n",
              "      <th>addr</th>\n",
              "    </tr>\n",
              "  </thead>\n",
              "  <tbody>\n",
              "    <tr>\n",
              "      <th>0</th>\n",
              "      <td>안동장</td>\n",
              "      <td>중식당</td>\n",
              "      <td>4.23</td>\n",
              "      <td>945</td>\n",
              "      <td>굴짬뽕/매운굴짬뽕/송이짬뽕/매운송이짬뽕,삼선짬뽕/매운 삼선짬뽕/삼선울면/삼선우동,짬...</td>\n",
              "      <td>안녕하다,누저,기입,니,이번,제,맛집,을지로,위치,오래되다,중식,안동장,이다,안동장...</td>\n",
              "      <td>서울특별시 중구 을지로3가 315-18번지</td>\n",
              "    </tr>\n",
              "    <tr>\n",
              "      <th>1</th>\n",
              "      <td>조선옥</td>\n",
              "      <td>육류,고기요리</td>\n",
              "      <td>4.00</td>\n",
              "      <td>474</td>\n",
              "      <td>양념소갈비(250g),갈비탕,대구탕,장국밥,냉면</td>\n",
              "      <td>날인,약속,있다,택시,타고,강남,옆,있다,지인,잠깐,을지로,를,가잔,아주,말,어차피...</td>\n",
              "      <td>서울특별시 중구 을지로3가 228번지</td>\n",
              "    </tr>\n",
              "    <tr>\n",
              "      <th>2</th>\n",
              "      <td>대림국수 을지로점</td>\n",
              "      <td>요리주점</td>\n",
              "      <td>4.37</td>\n",
              "      <td>456</td>\n",
              "      <td>꼬치국수 온면(기본맛/순한맛)\\n대표,모듬숯불꼬치 (8종)\\n대표,꼬치국수 비빔면,...</td>\n",
              "      <td>을지로,볼일,있다,마침,저녁,시간,대림,상가,을지로,마땅하다,맛집,없다,대림,가로,...</td>\n",
              "      <td>서울특별시 중구 산림동 166-0번지</td>\n",
              "    </tr>\n",
              "    <tr>\n",
              "      <th>3</th>\n",
              "      <td>브라운치킨 동대문본점</td>\n",
              "      <td>치킨,닭강정</td>\n",
              "      <td>4.29</td>\n",
              "      <td>100</td>\n",
              "      <td>마늘치킨\\n대표,후라이드치킨,양념치킨,간장치킨,웰빙파치킨,골뱅이무침+소면,치킨떡볶이...</td>\n",
              "      <td>하나,동대문,저,놀이터,정말,시즌,쇼핑,곳,젠,멀다,동대문,격변,동네,건가,불과,해...</td>\n",
              "      <td>서울특별시 중구 을지로6가 18-52번지</td>\n",
              "    </tr>\n",
              "    <tr>\n",
              "      <th>4</th>\n",
              "      <td>삼보호프</td>\n",
              "      <td>맥주,호프</td>\n",
              "      <td>4.23</td>\n",
              "      <td>59</td>\n",
              "      <td>노가리,마른안주,황도,번데기,야채</td>\n",
              "      <td>을지로,치킨,냄새,노상,맥주,바삭바삭하다,강냉이,치킨,바삭,옛날,치킨,끝내주다,맛있...</td>\n",
              "      <td>서울특별시 중구 주교동 196-0번지</td>\n",
              "    </tr>\n",
              "  </tbody>\n",
              "</table>\n",
              "</div>"
            ],
            "text/plain": [
              "    store_name  ...                      addr\n",
              "0          안동장  ...  서울특별시 중구 을지로3가 315-18번지 \n",
              "1          조선옥  ...     서울특별시 중구 을지로3가 228번지 \n",
              "2    대림국수 을지로점  ...     서울특별시 중구 산림동 166-0번지 \n",
              "3  브라운치킨 동대문본점  ...   서울특별시 중구 을지로6가 18-52번지 \n",
              "4         삼보호프  ...     서울특별시 중구 주교동 196-0번지 \n",
              "\n",
              "[5 rows x 7 columns]"
            ]
          },
          "metadata": {},
          "execution_count": 5
        }
      ]
    },
    {
      "cell_type": "code",
      "metadata": {
        "id": "9rBYBjbVNGG7"
      },
      "source": [
        "word_list =[]\n",
        "for i in range(0, len(full_data)):\n",
        "    word1 = full_data.iloc[i][1].replace('/', ',').replace(' ', ',').split(',')\n",
        "    if type(full_data.iloc[i][4]) != str:\n",
        "        word2 = []\n",
        "    else:        \n",
        "        word2 = full_data.iloc[i][4].replace('/', ',').replace(' ', ',').split(',')\n",
        "    word3 =  full_data.iloc[i][5].split(',')  \n",
        "    \n",
        "    word = word1 + word2 + word3\n",
        "    \n",
        "    word_list.append(word)\n"
      ],
      "execution_count": 6,
      "outputs": []
    },
    {
      "cell_type": "code",
      "metadata": {
        "id": "x6xo6gDAcD3_"
      },
      "source": [
        "model = Word2Vec.load('/content/gdrive/MyDrive/ko.bin')\n",
        "model.wv.save_word2vec_format('/content/gdrive/MyDrive/ko.bin.gz', binary=False)"
      ],
      "execution_count": 46,
      "outputs": []
    },
    {
      "cell_type": "code",
      "metadata": {
        "id": "zwYsF9cLctf_"
      },
      "source": [
        "\n",
        "model_2 = Word2Vec(size=200, min_count=1)\n",
        "model_2.build_vocab(word_list)\n",
        "total_examples = model_2.corpus_count\n"
      ],
      "execution_count": 47,
      "outputs": []
    },
    {
      "cell_type": "code",
      "metadata": {
        "id": "0BpMLXfUdwu3"
      },
      "source": [
        "model_2.build_vocab([list(model.wv.vocab.keys())], update=True)\n",
        "model_2.intersect_word2vec_format(\"/content/gdrive/MyDrive/ko.bin.gz\", binary=False)"
      ],
      "execution_count": 48,
      "outputs": []
    },
    {
      "cell_type": "code",
      "metadata": {
        "colab": {
          "base_uri": "https://localhost:8080/"
        },
        "id": "Vq8xuq7veYql",
        "outputId": "d69168ed-732b-42c1-fdcf-bb3ba7dcddb7"
      },
      "source": [
        "model_2.train(word_list, total_examples=total_examples, epochs=50)"
      ],
      "execution_count": 50,
      "outputs": [
        {
          "output_type": "execute_result",
          "data": {
            "text/plain": [
              "(6064084, 6327300)"
            ]
          },
          "metadata": {},
          "execution_count": 50
        }
      ]
    },
    {
      "cell_type": "code",
      "metadata": {
        "colab": {
          "base_uri": "https://localhost:8080/"
        },
        "id": "Ukf2j4mNedOB",
        "outputId": "b744c488-2ddb-497e-8471-f8c7ee9caa47"
      },
      "source": [
        "model_2.most_similar('양말')"
      ],
      "execution_count": 90,
      "outputs": [
        {
          "output_type": "stream",
          "name": "stderr",
          "text": [
            "/usr/local/lib/python3.7/dist-packages/ipykernel_launcher.py:1: DeprecationWarning: Call to deprecated `most_similar` (Method will be removed in 4.0.0, use self.wv.most_similar() instead).\n",
            "  \"\"\"Entry point for launching an IPython kernel.\n"
          ]
        },
        {
          "output_type": "execute_result",
          "data": {
            "text/plain": [
              "[('신발', 0.772346556186676),\n",
              " ('속옷', 0.7397254109382629),\n",
              " ('옷감', 0.7003517150878906),\n",
              " ('반바지', 0.6818591356277466),\n",
              " ('검은색', 0.6801407337188721),\n",
              " ('양복', 0.6758757829666138),\n",
              " ('가죽', 0.6746922731399536),\n",
              " ('남색', 0.6663075685501099),\n",
              " ('스타킹', 0.6629595756530762),\n",
              " ('셔츠', 0.659692645072937)]"
            ]
          },
          "metadata": {},
          "execution_count": 90
        }
      ]
    },
    {
      "cell_type": "code",
      "metadata": {
        "id": "iz8WiNMSnaUD"
      },
      "source": [
        "def vectors(document_list):\n",
        "    document_embedding_list = []\n",
        "\n",
        "    # 각 문서에 대해서\n",
        "    for line in document_list:\n",
        "        doc2vec = None\n",
        "        count = 0\n",
        "        for word in line:\n",
        "            if word in model_2.wv.vocab:\n",
        "                count += 1\n",
        "                # 해당 문서에 있는 모든 단어들의 벡터값을 더한다.\n",
        "                if doc2vec is None:\n",
        "                    doc2vec = model_2[word]\n",
        "                else:\n",
        "                    doc2vec = doc2vec + model_2[word]\n",
        "\n",
        "        if doc2vec is not None:\n",
        "            # 단어 벡터를 모두 더한 벡터의 값을 문서 길이로 나눠준다.\n",
        "            doc2vec = doc2vec / count\n",
        "            document_embedding_list.append(doc2vec)\n",
        "\n",
        "    # 각 문서에 대한 문서 벡터 리스트를 리턴\n",
        "    return document_embedding_list"
      ],
      "execution_count": 62,
      "outputs": []
    },
    {
      "cell_type": "code",
      "metadata": {
        "colab": {
          "base_uri": "https://localhost:8080/"
        },
        "id": "LMOg3eY_p50z",
        "outputId": "b137af82-cff1-457c-f1a8-67402da8df60"
      },
      "source": [
        "document_embedding_list = vectors(word_list)\n",
        "print('문서 벡터의 수 :',len(document_embedding_list))"
      ],
      "execution_count": 63,
      "outputs": [
        {
          "output_type": "stream",
          "name": "stderr",
          "text": [
            "/usr/local/lib/python3.7/dist-packages/ipykernel_launcher.py:13: DeprecationWarning: Call to deprecated `__getitem__` (Method will be removed in 4.0.0, use self.wv.__getitem__() instead).\n",
            "  del sys.path[0]\n",
            "/usr/local/lib/python3.7/dist-packages/ipykernel_launcher.py:15: DeprecationWarning: Call to deprecated `__getitem__` (Method will be removed in 4.0.0, use self.wv.__getitem__() instead).\n",
            "  from ipykernel import kernelapp as app\n"
          ]
        },
        {
          "output_type": "stream",
          "name": "stdout",
          "text": [
            "문서 벡터의 수 : 589\n"
          ]
        }
      ]
    },
    {
      "cell_type": "code",
      "metadata": {
        "colab": {
          "base_uri": "https://localhost:8080/"
        },
        "id": "-WkDGnUGqK1e",
        "outputId": "709ee464-ea24-4cd6-acdc-b59b0f77f4de"
      },
      "source": [
        "cosine_similarities = cosine_similarity(document_embedding_list, document_embedding_list)\n",
        "print('코사인 유사도 매트릭스의 크기 :',cosine_similarities.shape)\n"
      ],
      "execution_count": 64,
      "outputs": [
        {
          "output_type": "stream",
          "name": "stdout",
          "text": [
            "코사인 유사도 매트릭스의 크기 : (589, 589)\n"
          ]
        }
      ]
    },
    {
      "cell_type": "code",
      "metadata": {
        "id": "c5qiMVBJqM6x"
      },
      "source": [
        "def recommendations(title):\n",
        "    restaurant = full_data    \n",
        "    # 음식점의 인덱스를 리턴받아 idx에 저장.\n",
        "    indices = pd.Series(full_data.index, index = full_data['store_name']).drop_duplicates()    \n",
        "    idx = indices[title]\n",
        "    print(idx)\n",
        "    # 블로그 단어와 유사한 5개 선정.\n",
        "    sim_scores = list(enumerate(cosine_similarities[idx]))\n",
        "    sim_scores = sorted(sim_scores, key = lambda x: x[1], reverse = True)\n",
        "    sim_scores = sim_scores[1:11]\n",
        "    print(sim_scores)\n",
        "    # 가장 유사한 5개 인덱스\n",
        "    restaurant_indices = [i[0] for i in sim_scores]\n",
        "\n",
        "    # 전체 데이터프레임에서 해당 인덱스의 행만 추출. 5개의 행을 가진다.\n",
        "    recommend = restaurant.iloc[restaurant_indices].reset_index(drop=True)\n",
        "\n",
        "    # for index, row in recommend.iterrows():\n",
        "    #     print(row[['store_name', 'store_type', 'star_point', 'star_point_qty','menu','addr']])\n",
        "    \n",
        "    return recommend"
      ],
      "execution_count": 65,
      "outputs": []
    },
    {
      "cell_type": "code",
      "metadata": {
        "colab": {
          "base_uri": "https://localhost:8080/",
          "height": 573
        },
        "id": "qwp2CLmeqPuo",
        "outputId": "dd2b0e8e-9d1e-4ce0-a05d-45b2caad6205"
      },
      "source": [
        "recommand = recommendations(\"촙촙\")\n",
        "recommand"
      ],
      "execution_count": 66,
      "outputs": [
        {
          "output_type": "stream",
          "name": "stdout",
          "text": [
            "433\n",
            "[(511, 0.9422603), (519, 0.9332976), (307, 0.92922175), (502, 0.9228063), (420, 0.922183), (535, 0.91858155), (95, 0.91797376), (269, 0.91755104), (531, 0.91591597), (53, 0.9141951)]\n"
          ]
        },
        {
          "output_type": "execute_result",
          "data": {
            "text/html": [
              "<div>\n",
              "<style scoped>\n",
              "    .dataframe tbody tr th:only-of-type {\n",
              "        vertical-align: middle;\n",
              "    }\n",
              "\n",
              "    .dataframe tbody tr th {\n",
              "        vertical-align: top;\n",
              "    }\n",
              "\n",
              "    .dataframe thead th {\n",
              "        text-align: right;\n",
              "    }\n",
              "</style>\n",
              "<table border=\"1\" class=\"dataframe\">\n",
              "  <thead>\n",
              "    <tr style=\"text-align: right;\">\n",
              "      <th></th>\n",
              "      <th>store_name</th>\n",
              "      <th>store_type</th>\n",
              "      <th>star_point</th>\n",
              "      <th>star_point_qty</th>\n",
              "      <th>menu</th>\n",
              "      <th>blog_keyword</th>\n",
              "      <th>addr</th>\n",
              "    </tr>\n",
              "  </thead>\n",
              "  <tbody>\n",
              "    <tr>\n",
              "      <th>0</th>\n",
              "      <td>을지깐깐</td>\n",
              "      <td>베트남음식</td>\n",
              "      <td>4.52</td>\n",
              "      <td>658</td>\n",
              "      <td>Bánh canh cua 게살국수\\n대표,Cơm tấm 고기덮밥\\n대표,Phở bò...</td>\n",
              "      <td>지인,준,을지,찬찬,원래,내,롯데,호텔,샤인,머,스캣,애프터눈티,그렇다,점심,간,곳...</td>\n",
              "      <td>서울특별시 중구 저동2가 47-10 1층</td>\n",
              "    </tr>\n",
              "    <tr>\n",
              "      <th>1</th>\n",
              "      <td>진작</td>\n",
              "      <td>일식당</td>\n",
              "      <td>4.45</td>\n",
              "      <td>1374</td>\n",
              "      <td>진작 후토마끼\\n대표,한우대창덮밥\\n대표,진작모듬카츠,명란까르보나라,봉골레,마구로덮...</td>\n",
              "      <td>을지로,역,맛집,대창,밥,후토,마키,맛있다,곳,진작,만,주니,을지로,데이트,저번,때...</td>\n",
              "      <td>서울특별시 중구 초동 107-10번지</td>\n",
              "    </tr>\n",
              "    <tr>\n",
              "      <th>2</th>\n",
              "      <td>알로</td>\n",
              "      <td>스테이크,립</td>\n",
              "      <td>4.79</td>\n",
              "      <td>235</td>\n",
              "      <td>부채살스테이크 정식(평일점심)\\n대표,토마호크스테이크 2~3인Set(750g)\\n대...</td>\n",
              "      <td>회사,근처,자주,곳,중,하나,을지로,데이트,주말,데이트,사람,많다,장소,을지로,맛집...</td>\n",
              "      <td>서울특별시 중구 을지로2가 199-39번지 204205호</td>\n",
              "    </tr>\n",
              "    <tr>\n",
              "      <th>3</th>\n",
              "      <td>찜이로닭</td>\n",
              "      <td>찜닭</td>\n",
              "      <td>4.31</td>\n",
              "      <td>245</td>\n",
              "      <td>찜이로닭 (소),매콤숙주 찜이로닭 (소),순살 혼닭 찜닭,매콤 숙주 혼닭</td>\n",
              "      <td>지난,주말,교외,나들이,시내,점심,집,게,좋다,것,같다,을지로,맛집,밥,먹기,예전,...</td>\n",
              "      <td>서울특별시 중구 저동2가 7-2</td>\n",
              "    </tr>\n",
              "    <tr>\n",
              "      <th>4</th>\n",
              "      <td>카렝</td>\n",
              "      <td>카레</td>\n",
              "      <td>4.36</td>\n",
              "      <td>47</td>\n",
              "      <td>카레라 카렝\\n대표,게살고로케카렝\\n대표,돈 카렝,치킨 카렝,새우 카렝,우동 카렝,...</td>\n",
              "      <td>얼마,전,지인,힙,을지로,접선,뒷북몽,이,때,점심,조금,지난,오후,시간대,것,같다,...</td>\n",
              "      <td>서울특별시 중구 을지로3가 227번지 2층</td>\n",
              "    </tr>\n",
              "    <tr>\n",
              "      <th>5</th>\n",
              "      <td>을지로제</td>\n",
              "      <td>스파게티,파스타전문</td>\n",
              "      <td>4.46</td>\n",
              "      <td>236</td>\n",
              "      <td>누룽지 통닭 파스타(1.5인분)\\n대표,킹 새우 파스타\\n대표,싸가지 버섯 파스타,...</td>\n",
              "      <td>오늘,힙지로,간만,파스타,맛집,발견,기분,좋다,마음,포스팅,을지로,제,위치,을지로,...</td>\n",
              "      <td>서울특별시 중구 초동 107-5번지</td>\n",
              "    </tr>\n",
              "    <tr>\n",
              "      <th>6</th>\n",
              "      <td>을지로술집</td>\n",
              "      <td>요리주점</td>\n",
              "      <td>4.49</td>\n",
              "      <td>180</td>\n",
              "      <td>숙성회모듬\\n대표,등심돈까스,안심돈까스,돈까스카레덮밥,치킨카레덮밥,새우튀김카레덮밥,...</td>\n",
              "      <td>퇴근,후,혼자,잔,을지로,역,가까이,위치,있다,수월하다,입구,마자,낚싯대,통발,등,...</td>\n",
              "      <td>서울특별시 중구 주교동 43-21번지</td>\n",
              "    </tr>\n",
              "    <tr>\n",
              "      <th>7</th>\n",
              "      <td>가야성</td>\n",
              "      <td>중식당</td>\n",
              "      <td>4.27</td>\n",
              "      <td>406</td>\n",
              "      <td>짜장면,우동/짬뽕/간짜장/울면,가리비 낙지짬뽕,삼선우동/삼선짬뽕/삼선울면/삼선짜장/...</td>\n",
              "      <td>커다랗다,낙지,마리,통째,가리비,낙지,짬뽕,해장,필요하다,때,짬뽕,전문점,점심,세트...</td>\n",
              "      <td>서울특별시 중구 을지로2가 199-40번지 외1필지(1층 114호 128호)</td>\n",
              "    </tr>\n",
              "    <tr>\n",
              "      <th>8</th>\n",
              "      <td>네평반</td>\n",
              "      <td>아시아음식</td>\n",
              "      <td>4.68</td>\n",
              "      <td>65</td>\n",
              "      <td>가지튀김,마늘새우당면찜,청양마요새우,새우완탕면,어향동고,차돌양지배추찜,칠리새우,마파...</td>\n",
              "      <td>안녕하다,라미,오늘,일명,힙지로,을지로,언니,평반,오라,언니,집,말,알,언니네,주소...</td>\n",
              "      <td>서울특별시 중구 을지로3가 342-3번지</td>\n",
              "    </tr>\n",
              "    <tr>\n",
              "      <th>9</th>\n",
              "      <td>을지분식</td>\n",
              "      <td>종합분식</td>\n",
              "      <td>4.37</td>\n",
              "      <td>481</td>\n",
              "      <td>직화 우삼겹 즉석떡볶이(2인)\\n대표,소곱창 즉석떡볶이(2인)\\n대표,즉석떡볶이(2...</td>\n",
              "      <td>힙지로,시작,즈음,을지로,길맥,년,다시,방문,힙지,그때,투,박하다,골목,지나,길거리...</td>\n",
              "      <td>서울특별시 중구 을지로5가 149-1번지</td>\n",
              "    </tr>\n",
              "  </tbody>\n",
              "</table>\n",
              "</div>"
            ],
            "text/plain": [
              "  store_name  ...                                         addr\n",
              "0       을지깐깐  ...                       서울특별시 중구 저동2가 47-10 1층\n",
              "1         진작  ...                        서울특별시 중구 초동 107-10번지 \n",
              "2         알로  ...              서울특별시 중구 을지로2가 199-39번지 204205호\n",
              "3       찜이로닭  ...                            서울특별시 중구 저동2가 7-2\n",
              "4         카렝  ...                     서울특별시 중구 을지로3가 227번지 2층 \n",
              "5       을지로제  ...                         서울특별시 중구 초동 107-5번지 \n",
              "6      을지로술집  ...                        서울특별시 중구 주교동 43-21번지 \n",
              "7        가야성  ...  서울특별시 중구 을지로2가 199-40번지 외1필지(1층 114호 128호) \n",
              "8        네평반  ...                      서울특별시 중구 을지로3가 342-3번지 \n",
              "9       을지분식  ...                      서울특별시 중구 을지로5가 149-1번지 \n",
              "\n",
              "[10 rows x 7 columns]"
            ]
          },
          "metadata": {},
          "execution_count": 66
        }
      ]
    },
    {
      "cell_type": "code",
      "metadata": {
        "id": "XPdNcojpufKq"
      },
      "source": [
        "full_data['cate_mix'] = full_data['store_type'] + full_data['menu'].fillna('*')\n",
        "full_data['cate_mix'] = full_data['cate_mix'].str.replace('/', ',')"
      ],
      "execution_count": 67,
      "outputs": []
    },
    {
      "cell_type": "code",
      "metadata": {
        "id": "vot3ZgtN4P2i"
      },
      "source": [
        "count_vect_category = CountVectorizer(min_df=0, ngram_range=(1,2))\n",
        "place_category = count_vect_category.fit_transform(full_data['cate_mix']) \n",
        "place_simi_cate = cosine_similarity(place_category, place_category) \n",
        "place_simi_cate_sorted_ind = place_simi_cate.argsort()[:, ::-1]\n",
        "place_simi_review_sorted_ind = cosine_similarities.argsort()[:, ::-1]\n"
      ],
      "execution_count": 68,
      "outputs": []
    },
    {
      "cell_type": "code",
      "metadata": {
        "id": "zC5FLDT383lP"
      },
      "source": [
        "place_simi_co = (\n",
        "                 + place_simi_cate * 0.5 # 카테고리 유사도\n",
        "                 + cosine_similarities * 1 # 리뷰 텍스트 유사도                \n",
        "                 + np.repeat([pd.to_numeric(full_data['star_point']).values], len(full_data['star_point']) , axis=0) * 0.0005            #  별점 가중치\n",
        "                 + np.repeat([pd.to_numeric(full_data['star_point_qty']).values], len(full_data['star_point_qty']) , axis=0) * 0.00001    # 별점 평가가 얼마나 많이 됐는지\n",
        "                 )\n",
        "place_simi_co_sorted_ind = place_simi_co.argsort()[:, ::-1] "
      ],
      "execution_count": 84,
      "outputs": []
    },
    {
      "cell_type": "code",
      "metadata": {
        "colab": {
          "base_uri": "https://localhost:8080/",
          "height": 328
        },
        "id": "FrBg3qmtAKV8",
        "outputId": "54a986f6-7d4a-462f-c04c-d7453c1e3193"
      },
      "source": [
        "def find_simi_place(df, sorted_ind, place_name, top_n=10):\n",
        "    \n",
        "    place_title = df[full_data['store_name'] == place_name]\n",
        "    place_index = place_title.index.values\n",
        "    similar_indexes = sorted_ind[place_index, :(top_n)]\n",
        "    similar_indexes = similar_indexes.reshape(-1)\n",
        "    return df.iloc[similar_indexes]\n",
        "\n",
        "find_simi_place(full_data, place_simi_co_sorted_ind, '신라마라탕', 5)"
      ],
      "execution_count": 85,
      "outputs": [
        {
          "output_type": "execute_result",
          "data": {
            "text/html": [
              "<div>\n",
              "<style scoped>\n",
              "    .dataframe tbody tr th:only-of-type {\n",
              "        vertical-align: middle;\n",
              "    }\n",
              "\n",
              "    .dataframe tbody tr th {\n",
              "        vertical-align: top;\n",
              "    }\n",
              "\n",
              "    .dataframe thead th {\n",
              "        text-align: right;\n",
              "    }\n",
              "</style>\n",
              "<table border=\"1\" class=\"dataframe\">\n",
              "  <thead>\n",
              "    <tr style=\"text-align: right;\">\n",
              "      <th></th>\n",
              "      <th>store_name</th>\n",
              "      <th>store_type</th>\n",
              "      <th>star_point</th>\n",
              "      <th>star_point_qty</th>\n",
              "      <th>menu</th>\n",
              "      <th>blog_keyword</th>\n",
              "      <th>addr</th>\n",
              "      <th>cate_mix</th>\n",
              "    </tr>\n",
              "  </thead>\n",
              "  <tbody>\n",
              "    <tr>\n",
              "      <th>393</th>\n",
              "      <td>신라마라탕</td>\n",
              "      <td>중식당</td>\n",
              "      <td>4.02</td>\n",
              "      <td>68</td>\n",
              "      <td>사골마라탕 (100G)\\n대표,마라샹궈 (100G)\\n대표,꿔바러우 (소),짜장면,...</td>\n",
              "      <td>매콤,다양하다,재료,마라샹궈,내,원하다,재료,하나,하나,것,나름,장점,메뉴,중,하나...</td>\n",
              "      <td>서울특별시 중구 을지로6가 17-2번지 지하2층</td>\n",
              "      <td>중식당사골마라탕 (100G)\\n대표,마라샹궈 (100G)\\n대표,꿔바러우 (소),짜...</td>\n",
              "    </tr>\n",
              "    <tr>\n",
              "      <th>268</th>\n",
              "      <td>신룽푸마라탕</td>\n",
              "      <td>신룽푸마라탕</td>\n",
              "      <td>4.42</td>\n",
              "      <td>1137</td>\n",
              "      <td>마라탕 (100g 당),마라샹궈 (100g 당),마라반 (100g 당),꿔바로우,랑피</td>\n",
              "      <td>안녕하다,핸잉,용,오늘,소개,곳,명동,마르다,탕,맛집,룽,푸마,탕,이다,영업,시간,...</td>\n",
              "      <td>서울특별시 중구 을지로2가 199-76 (지상12층)</td>\n",
              "      <td>신룽푸마라탕마라탕 (100g 당),마라샹궈 (100g 당),마라반 (100g 당),...</td>\n",
              "    </tr>\n",
              "    <tr>\n",
              "      <th>339</th>\n",
              "      <td>해룡마라룽샤</td>\n",
              "      <td>중식당</td>\n",
              "      <td>4.49</td>\n",
              "      <td>278</td>\n",
              "      <td>매운가재,매운잉어구이,매운꽃게,매운새우,매운바지락,매운동태,삼겹살감자조림,탕수육,매...</td>\n",
              "      <td>해룡,마르다,룽샤,영업,시간,매일,만,정말,좋아하다,곳,해룡,마르다,룽샤,맵다,가재...</td>\n",
              "      <td>서울특별시 중구 을지로6가 18-131번지 1층</td>\n",
              "      <td>중식당매운가재,매운잉어구이,매운꽃게,매운새우,매운바지락,매운동태,삼겹살감자조림,탕수...</td>\n",
              "    </tr>\n",
              "    <tr>\n",
              "      <th>478</th>\n",
              "      <td>제주애월카츠</td>\n",
              "      <td>돈가스</td>\n",
              "      <td>4.32</td>\n",
              "      <td>200</td>\n",
              "      <td>모짜렐라 치즈 카츠\\n대표</td>\n",
              "      <td>저,지금,연속,동대문,욤,의도,건,아니다,동대문,동대문,타,맛집,소개,제주,애월,카...</td>\n",
              "      <td>서울특별시 중구 초동 17-4번지 한신빌딩</td>\n",
              "      <td>돈가스모짜렐라 치즈 카츠\\n대표</td>\n",
              "    </tr>\n",
              "    <tr>\n",
              "      <th>220</th>\n",
              "      <td>마부마라탕&amp;마라샹궈</td>\n",
              "      <td>중식당</td>\n",
              "      <td>4.52</td>\n",
              "      <td>170</td>\n",
              "      <td>NaN</td>\n",
              "      <td>여러분,저,마르다,탕,처,돌이,과연,제,처,음식,있다,의아,마부,마르다,탕,동대문역...</td>\n",
              "      <td>서울특별시 중구 초동 53-6번지</td>\n",
              "      <td>중식당*</td>\n",
              "    </tr>\n",
              "  </tbody>\n",
              "</table>\n",
              "</div>"
            ],
            "text/plain": [
              "     store_name  ...                                           cate_mix\n",
              "393       신라마라탕  ...  중식당사골마라탕 (100G)\\n대표,마라샹궈 (100G)\\n대표,꿔바러우 (소),짜...\n",
              "268      신룽푸마라탕  ...  신룽푸마라탕마라탕 (100g 당),마라샹궈 (100g 당),마라반 (100g 당),...\n",
              "339      해룡마라룽샤  ...  중식당매운가재,매운잉어구이,매운꽃게,매운새우,매운바지락,매운동태,삼겹살감자조림,탕수...\n",
              "478      제주애월카츠  ...                                  돈가스모짜렐라 치즈 카츠\\n대표\n",
              "220  마부마라탕&마라샹궈  ...                                               중식당*\n",
              "\n",
              "[5 rows x 8 columns]"
            ]
          },
          "metadata": {},
          "execution_count": 85
        }
      ]
    },
    {
      "cell_type": "code",
      "metadata": {
        "colab": {
          "base_uri": "https://localhost:8080/",
          "height": 366
        },
        "id": "HkJGNdAmF_Rk",
        "outputId": "4cb1ef0a-afb7-407f-c43a-7413e515023c"
      },
      "source": [
        "tokenizer = Okt()\n",
        "keyword =[]\n",
        "def restraunt_recommandation(sentence): \n",
        "    tokenized = tokenizer.pos(sentence, norm=True, stem=True)   \n",
        "    okt_filtering = [x for x, y in tokenized if y in ['Noun', 'Adjective']]        \n",
        "    # keyword.append( ','.join(okt_filtering)  ) \n",
        "    sentence_vector = None\n",
        "    for word in okt_filtering:       \n",
        "        if word in model_2.wv.vocab:            \n",
        "            if sentence_vector is None:\n",
        "                sentence_vector = model_2[word]\n",
        "            else:\n",
        "                sentence_vector = sentence_vector + model_2[word]\n",
        "    if sentence_vector is not None:       \n",
        "        sentence_vector = sentence_vector / len(okt_filtering)\n",
        "        cs = cosine_similarity(document_embedding_list, [sentence_vector])\n",
        "        result = find_simi_place(full_data, place_simi_co_sorted_ind, full_data.iloc[cs.argmax()]['store_name'], 5)\n",
        "        return result      \n",
        "        # with pd.option_context('display.max_rows', None, 'display.max_columns', None):\n",
        "        #     print(result[['store_name', 'store_type', 'star_point', 'star_point_qty', 'menu', 'addr']])\n",
        "        \n",
        "    else:\n",
        "        print('찾는 결과가 없습니다. 다른 키워드로 검색하세요.')\n"
      ],
      "execution_count": 151,
      "outputs": [
        {
          "output_type": "stream",
          "name": "stderr",
          "text": [
            "/usr/local/lib/python3.7/dist-packages/ipykernel_launcher.py:11: DeprecationWarning: Call to deprecated `__getitem__` (Method will be removed in 4.0.0, use self.wv.__getitem__() instead).\n",
            "  # This is added back by InteractiveShellApp.init_path()\n",
            "/usr/local/lib/python3.7/dist-packages/ipykernel_launcher.py:13: DeprecationWarning: Call to deprecated `__getitem__` (Method will be removed in 4.0.0, use self.wv.__getitem__() instead).\n",
            "  del sys.path[0]\n"
          ]
        },
        {
          "output_type": "execute_result",
          "data": {
            "text/html": [
              "<div>\n",
              "<style scoped>\n",
              "    .dataframe tbody tr th:only-of-type {\n",
              "        vertical-align: middle;\n",
              "    }\n",
              "\n",
              "    .dataframe tbody tr th {\n",
              "        vertical-align: top;\n",
              "    }\n",
              "\n",
              "    .dataframe thead th {\n",
              "        text-align: right;\n",
              "    }\n",
              "</style>\n",
              "<table border=\"1\" class=\"dataframe\">\n",
              "  <thead>\n",
              "    <tr style=\"text-align: right;\">\n",
              "      <th></th>\n",
              "      <th>store_name</th>\n",
              "      <th>store_type</th>\n",
              "      <th>star_point</th>\n",
              "      <th>star_point_qty</th>\n",
              "      <th>menu</th>\n",
              "      <th>blog_keyword</th>\n",
              "      <th>addr</th>\n",
              "      <th>cate_mix</th>\n",
              "    </tr>\n",
              "  </thead>\n",
              "  <tbody>\n",
              "    <tr>\n",
              "      <th>587</th>\n",
              "      <td>다크문</td>\n",
              "      <td>바(BAR)</td>\n",
              "      <td>4.21</td>\n",
              "      <td>18</td>\n",
              "      <td>아메리카노,칵테일</td>\n",
              "      <td>을지로,칵테일,사이키델릭,바,다크,문,요즘,영업,시간,제한,있다,그렇다,예전,차,차...</td>\n",
              "      <td>서울특별시 중구 저동2가 69-1번지</td>\n",
              "      <td>바(BAR)아메리카노,칵테일</td>\n",
              "    </tr>\n",
              "    <tr>\n",
              "      <th>440</th>\n",
              "      <td>을지로 브이</td>\n",
              "      <td>바(BAR)</td>\n",
              "      <td>4.57</td>\n",
              "      <td>102</td>\n",
              "      <td>NaN</td>\n",
              "      <td>을지로,브이,요거트,장사,옴청,블로그,후기,없다,저,주로,테이크아웃,모,예쁘다,저,...</td>\n",
              "      <td>서울특별시 중구 을지로3가 349-1번지 3층</td>\n",
              "      <td>바(BAR)*</td>\n",
              "    </tr>\n",
              "    <tr>\n",
              "      <th>561</th>\n",
              "      <td>선셋 레코드</td>\n",
              "      <td>카페</td>\n",
              "      <td>4.51</td>\n",
              "      <td>293</td>\n",
              "      <td>커피,칵테일</td>\n",
              "      <td>을지로,힙,칵테일,바,아쉽다,선셋,레코드,만,을지로,예,고민,고민,선셋,레코드,처음...</td>\n",
              "      <td>서울특별시 중구 산림동 207-2번지 대림상가 356호</td>\n",
              "      <td>카페커피,칵테일</td>\n",
              "    </tr>\n",
              "    <tr>\n",
              "      <th>442</th>\n",
              "      <td>을지로맨틱</td>\n",
              "      <td>바(BAR)</td>\n",
              "      <td>4.63</td>\n",
              "      <td>49</td>\n",
              "      <td>와인,싱글몰트 위스키,칵테일,치즈 플레이트,햄&amp;치즈 플레이트,몰트 플레이트,칩 코코...</td>\n",
              "      <td>지난,주,퇴근,시간,친구,회사,근처,을지로,을지로,와인,저,몇,군데,을지로,와인,친...</td>\n",
              "      <td>서울특별시 중구 을지로6가 17-2번지 지하2층</td>\n",
              "      <td>바(BAR)와인,싱글몰트 위스키,칵테일,치즈 플레이트,햄&amp;치즈 플레이트,몰트 플레이...</td>\n",
              "    </tr>\n",
              "    <tr>\n",
              "      <th>507</th>\n",
              "      <td>빈티지라이언</td>\n",
              "      <td>바(BAR)</td>\n",
              "      <td>4.35</td>\n",
              "      <td>97</td>\n",
              "      <td>코젤다크 생맥주\\n대표,칵테일\\n대표,아메리카노,우롱 밀크티,레드락 생맥주,상그리아...</td>\n",
              "      <td>혹시,세운상가,지금,젊다,친구,있다,저,어린시절,용산,전자,상가,더,핫,곳,초등학교...</td>\n",
              "      <td>서울특별시 중구 을지로4가 77번지 1층</td>\n",
              "      <td>바(BAR)코젤다크 생맥주\\n대표,칵테일\\n대표,아메리카노,우롱 밀크티,레드락 생맥...</td>\n",
              "    </tr>\n",
              "  </tbody>\n",
              "</table>\n",
              "</div>"
            ],
            "text/plain": [
              "    store_name  ...                                           cate_mix\n",
              "587        다크문  ...                                    바(BAR)아메리카노,칵테일\n",
              "440     을지로 브이  ...                                            바(BAR)*\n",
              "561     선셋 레코드  ...                                           카페커피,칵테일\n",
              "442      을지로맨틱  ...  바(BAR)와인,싱글몰트 위스키,칵테일,치즈 플레이트,햄&치즈 플레이트,몰트 플레이...\n",
              "507     빈티지라이언  ...  바(BAR)코젤다크 생맥주\\n대표,칵테일\\n대표,아메리카노,우롱 밀크티,레드락 생맥...\n",
              "\n",
              "[5 rows x 8 columns]"
            ]
          },
          "metadata": {},
          "execution_count": 151
        }
      ]
    },
    {
      "cell_type": "markdown",
      "metadata": {
        "id": "wMP3MUcoBX3P"
      },
      "source": [
        "## 키워드 기반 음식점 추천 시스템"
      ]
    },
    {
      "cell_type": "code",
      "metadata": {
        "colab": {
          "base_uri": "https://localhost:8080/",
          "height": 418
        },
        "id": "ZAG7NM2tOg05",
        "outputId": "f0da49af-fa94-4af7-c226-36b3f5ca9a51"
      },
      "source": [
        "result = restraunt_recommandation('부장님과 회식')\n",
        "result"
      ],
      "execution_count": 158,
      "outputs": [
        {
          "output_type": "stream",
          "name": "stderr",
          "text": [
            "/usr/local/lib/python3.7/dist-packages/ipykernel_launcher.py:11: DeprecationWarning: Call to deprecated `__getitem__` (Method will be removed in 4.0.0, use self.wv.__getitem__() instead).\n",
            "  # This is added back by InteractiveShellApp.init_path()\n",
            "/usr/local/lib/python3.7/dist-packages/ipykernel_launcher.py:13: DeprecationWarning: Call to deprecated `__getitem__` (Method will be removed in 4.0.0, use self.wv.__getitem__() instead).\n",
            "  del sys.path[0]\n"
          ]
        },
        {
          "output_type": "execute_result",
          "data": {
            "text/html": [
              "<div>\n",
              "<style scoped>\n",
              "    .dataframe tbody tr th:only-of-type {\n",
              "        vertical-align: middle;\n",
              "    }\n",
              "\n",
              "    .dataframe tbody tr th {\n",
              "        vertical-align: top;\n",
              "    }\n",
              "\n",
              "    .dataframe thead th {\n",
              "        text-align: right;\n",
              "    }\n",
              "</style>\n",
              "<table border=\"1\" class=\"dataframe\">\n",
              "  <thead>\n",
              "    <tr style=\"text-align: right;\">\n",
              "      <th></th>\n",
              "      <th>store_name</th>\n",
              "      <th>store_type</th>\n",
              "      <th>star_point</th>\n",
              "      <th>star_point_qty</th>\n",
              "      <th>menu</th>\n",
              "      <th>blog_keyword</th>\n",
              "      <th>addr</th>\n",
              "      <th>cate_mix</th>\n",
              "    </tr>\n",
              "  </thead>\n",
              "  <tbody>\n",
              "    <tr>\n",
              "      <th>83</th>\n",
              "      <td>종로생삼겹살</td>\n",
              "      <td>돼지고기구이</td>\n",
              "      <td>4.74</td>\n",
              "      <td>21</td>\n",
              "      <td>양평해장국,내장탕,곱창전골,쌈밥,참치찌개</td>\n",
              "      <td>을지로,맛집,종로,생,삼겹살,양평,해장국,아침식사,회식,장소,추천,한국,두번째,개강...</td>\n",
              "      <td>서울특별시 중구 주교동 66-0번지</td>\n",
              "      <td>돼지고기구이양평해장국,내장탕,곱창전골,쌈밥,참치찌개</td>\n",
              "    </tr>\n",
              "    <tr>\n",
              "      <th>42</th>\n",
              "      <td>양평해장국</td>\n",
              "      <td>해장국</td>\n",
              "      <td>4.27</td>\n",
              "      <td>208</td>\n",
              "      <td>양평해장국,내장탕,곱창전골,쌈밥,냉면</td>\n",
              "      <td>양평,해장국,전화,주소,서울,중구,수표로,안녕하다,아리,오늘,동기,야근,인하다,몸,...</td>\n",
              "      <td>서울특별시 중구 초동 19-9번지</td>\n",
              "      <td>해장국양평해장국,내장탕,곱창전골,쌈밥,냉면</td>\n",
              "    </tr>\n",
              "    <tr>\n",
              "      <th>214</th>\n",
              "      <td>우정집</td>\n",
              "      <td>오리요리</td>\n",
              "      <td>4.35</td>\n",
              "      <td>204</td>\n",
              "      <td>생대구탕,내장탕, 대구탕 각,훈제수육</td>\n",
              "      <td>충무로,위치,대구,탕,전문점,우정,집,영덕,회식,차로,곳,우정,집,이다,결과,차,요...</td>\n",
              "      <td>서울특별시 중구 을지로6가 18-84번지 외1필지(미진빌딩 지상4층)</td>\n",
              "      <td>오리요리생대구탕,내장탕, 대구탕 각,훈제수육</td>\n",
              "    </tr>\n",
              "    <tr>\n",
              "      <th>45</th>\n",
              "      <td>최가네황소곱창</td>\n",
              "      <td>곱창,막창,양</td>\n",
              "      <td>4.43</td>\n",
              "      <td>288</td>\n",
              "      <td>황소곱창 구이 1인분\\n대표,곱창전골 大\\n대표,곱창전골 中,곱창전골 小,우렁된장찌...</td>\n",
              "      <td>안녕하다,지난주,훈트씨,인생,이제껏,한번,경험,못,곱창,맛,진짜,인생,곱창,집,군데...</td>\n",
              "      <td>서울특별시 중구 을지로5가 79-1번지</td>\n",
              "      <td>곱창,막창,양황소곱창 구이 1인분\\n대표,곱창전골 大\\n대표,곱창전골 中,곱창전골 ...</td>\n",
              "    </tr>\n",
              "    <tr>\n",
              "      <th>99</th>\n",
              "      <td>청와옥 을지로3가직영점</td>\n",
              "      <td>순대,순댓국</td>\n",
              "      <td>4.43</td>\n",
              "      <td>2858</td>\n",
              "      <td>순대국밥,편백정식,동해 오징어숯불구이,찹쌀순대,모둠순대,수육,육회 소,육사시미,얼큰...</td>\n",
              "      <td>전,병원,입원,때,엄마,을지로,역,맛집,포장,준,있다,그,때,진짜,맛있다,매장,가면...</td>\n",
              "      <td>서울특별시 중구 을지로2가 199-53 (지상1층)</td>\n",
              "      <td>순대,순댓국순대국밥,편백정식,동해 오징어숯불구이,찹쌀순대,모둠순대,수육,육회 소,육...</td>\n",
              "    </tr>\n",
              "  </tbody>\n",
              "</table>\n",
              "</div>"
            ],
            "text/plain": [
              "       store_name  ...                                           cate_mix\n",
              "83         종로생삼겹살  ...                       돼지고기구이양평해장국,내장탕,곱창전골,쌈밥,참치찌개\n",
              "42          양평해장국  ...                            해장국양평해장국,내장탕,곱창전골,쌈밥,냉면\n",
              "214           우정집  ...                           오리요리생대구탕,내장탕, 대구탕 각,훈제수육\n",
              "45        최가네황소곱창  ...  곱창,막창,양황소곱창 구이 1인분\\n대표,곱창전골 大\\n대표,곱창전골 中,곱창전골 ...\n",
              "99   청와옥 을지로3가직영점  ...  순대,순댓국순대국밥,편백정식,동해 오징어숯불구이,찹쌀순대,모둠순대,수육,육회 소,육...\n",
              "\n",
              "[5 rows x 8 columns]"
            ]
          },
          "metadata": {},
          "execution_count": 158
        }
      ]
    }
  ]
}